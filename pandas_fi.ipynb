{
 "cells": [
  {
   "cell_type": "markdown",
   "metadata": {},
   "source": [
    "# Exploration des données forums de la France Insoumise\n",
    "\n",
    "Nous utiliserons le package python [pandas](https://pandas.pydata.org/) pour manipuler les données. L'idée c'est de manipuler les données rapidement quelques lignes de code. \n",
    "\n",
    "Les fichiers `csv` sont dispos dans le drive de datapol (voire doc « table des données »). Par commodité nous avons converti les données en dataframe pandas et exporté le tout en dump pickle.\n",
    "\n",
    "  - `jvc.csv` regroupe les messages des topics suivants du sous-forum « Blabla 18-25 ans », consacrés au mouvement France Insoumise et à son fondateur Jean-Luc Mélenchon, du 12/11/2016 au 31/10/2017\n",
    "  - `blabla.csv` canal discord, discussion sur tous sujets, du 03/09/2017 au 30/10/2017\n",
    "  - `debat_actu.csv` canal discord, discussion sur différents sujets d'actualité, 15/10/2017 au 30/10/2017\n",
    "  - `debat_direct_an.csv` canal discord, discussion à propos des séances de l'Assemblée Nationale, du 10/07/2017 au 30/10/2017\n",
    "  - `discussion_fi.csv` canal discord, discussion au sujet de différentes actions et projets de FI, du 07/02/2017 au 30/10/2017\n",
    "  - `radio_insoumise.csv` canal discord, discussion autour des sujets abordés par les différentes émissions de Radio Insoumise, du 09/05/2017 au 30/10/2017\n",
    "\n",
    "## Prise en main \n",
    "\n",
    "Commençons par charger les données en mémoire dans un dataframe."
   ]
  },
  {
   "cell_type": "code",
   "execution_count": null,
   "metadata": {},
   "outputs": [],
   "source": [
    "import pandas as pd\n",
    "import pandas_fi\n",
    "from datetime import datetime\n",
    "\n",
    "from IPython.display import display, HTML\n",
    "\n",
    "df = pd.read_pickle('pickle_pandas_fi.bz', 'bz2')\n",
    "df.info()"
   ]
  },
  {
   "cell_type": "markdown",
   "metadata": {},
   "source": [
    "Les données ont été indexées sur le champ 'date', ça va bien nous aider par la suite\n",
    "\n",
    "Un aperçu des données avec les 5 premières lignes (pas par ordre chrono attention)"
   ]
  },
  {
   "cell_type": "code",
   "execution_count": null,
   "metadata": {},
   "outputs": [],
   "source": [
    "df.head()"
   ]
  },
  {
   "cell_type": "markdown",
   "metadata": {},
   "source": [
    "Pour simplifier l'affichage on peut sélectionner les colonnes à afficher.\n",
    "Que la colonne 'content' par exemple."
   ]
  },
  {
   "cell_type": "code",
   "execution_count": null,
   "metadata": {},
   "outputs": [],
   "source": [
    "df.content[:10]"
   ]
  },
  {
   "cell_type": "markdown",
   "metadata": {},
   "source": [
    "Ou 'content' et 'file'"
   ]
  },
  {
   "cell_type": "code",
   "execution_count": null,
   "metadata": {},
   "outputs": [],
   "source": [
    "df[['content', 'file']]"
   ]
  },
  {
   "cell_type": "markdown",
   "metadata": {},
   "source": [
    "Pour trier par date on se sert de l'indexation et hop"
   ]
  },
  {
   "cell_type": "code",
   "execution_count": null,
   "metadata": {},
   "outputs": [],
   "source": [
    "df[['content', 'file']].sort_index().head()"
   ]
  },
  {
   "cell_type": "markdown",
   "metadata": {},
   "source": [
    "## Filtre sur une colonne ('file' par exemple)\n",
    "\n",
    "On peut réduire les données à un fichier"
   ]
  },
  {
   "cell_type": "code",
   "execution_count": null,
   "metadata": {},
   "outputs": [],
   "source": [
    "df.loc[df['file'] == 'jvc.csv'].head()"
   ]
  },
  {
   "cell_type": "markdown",
   "metadata": {},
   "source": [
    "Ou à plusieurs fichiers"
   ]
  },
  {
   "cell_type": "code",
   "execution_count": null,
   "metadata": {},
   "outputs": [],
   "source": [
    "df.loc[df['file'].isin(('jvc.csv', 'blabla.csv'))]"
   ]
  },
  {
   "cell_type": "markdown",
   "metadata": {},
   "source": [
    "## Filtre sur le contenu\n",
    "\n",
    "La fonction `pandas_fi.regex_filter` va nous permettre de chercher un motif regex dans le contenu des posts.\n",
    "\n",
    "Ici les \"flexions\" de \"stenchon\", avec malheureusement du bruit lié aux URL."
   ]
  },
  {
   "cell_type": "code",
   "execution_count": null,
   "metadata": {},
   "outputs": [],
   "source": [
    "pandas_fi.regex_filter(df, 'stenchon\\w+\\W')"
   ]
  },
  {
   "cell_type": "markdown",
   "metadata": {},
   "source": [
    "## Filtre par date\n",
    "\n",
    "Le filtrage par date est grandement simplifié par l'indexation réalisée à l'import des fichiers. Il suffit d'indiquer une date au format 'année' ou 'année-mois' ou 'année-mois-jour'"
   ]
  },
  {
   "cell_type": "code",
   "execution_count": null,
   "metadata": {},
   "outputs": [],
   "source": [
    "#df['2016'].sort_index() #toutes les données de 2016\n",
    "#f['2016-11'].sort_index() #toutes les données de novembre 2016\n",
    "df['2016-11-22'].sort_index() #toutes les données du 22 ovembre 2016"
   ]
  },
  {
   "cell_type": "markdown",
   "metadata": {},
   "source": [
    "On peut aussi définir un intervalle temporel à la manière d'un slice python"
   ]
  },
  {
   "cell_type": "code",
   "execution_count": null,
   "metadata": {},
   "outputs": [],
   "source": [
    "#toutes les données entre le 20 janvier et le 3 mars 2017\n",
    "df['2017-01-20':'2017-03-03'].sort_index()"
   ]
  },
  {
   "cell_type": "markdown",
   "metadata": {},
   "source": [
    "Et puis combiner requête regex et sélection temporelle"
   ]
  },
  {
   "cell_type": "code",
   "execution_count": null,
   "metadata": {},
   "outputs": [],
   "source": [
    "pd.set_option('display.max_colwidth', -1) # pour afficher l'intégralité du contenu\n",
    "res = pandas_fi.regex_filter(df, 'écologi(e|que)s?\\W')\n",
    "display(res['2017-01-20':'2017-03-03'].sort_index())"
   ]
  }
 ],
 "metadata": {
  "kernelspec": {
   "display_name": "Python 3",
   "language": "python",
   "name": "python3"
  },
  "language_info": {
   "codemirror_mode": {
    "name": "ipython",
    "version": 3
   },
   "file_extension": ".py",
   "mimetype": "text/x-python",
   "name": "python",
   "nbconvert_exporter": "python",
   "pygments_lexer": "ipython3",
   "version": "3.6.3"
  }
 },
 "nbformat": 4,
 "nbformat_minor": 2
}
